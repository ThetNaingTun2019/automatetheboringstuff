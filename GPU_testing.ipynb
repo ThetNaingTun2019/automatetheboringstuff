{
 "cells": [
  {
   "cell_type": "code",
   "execution_count": 1,
   "id": "91c489ae",
   "metadata": {
    "id": "91c489ae",
    "outputId": "ccd36cc3-6224-49e5-c2e2-c68e292b6d6b"
   },
   "outputs": [
    {
     "ename": "ModuleNotFoundError",
     "evalue": "No module named 'numba'",
     "output_type": "error",
     "traceback": [
      "\u001b[1;31m---------------------------------------------------------------------------\u001b[0m",
      "\u001b[1;31mModuleNotFoundError\u001b[0m                       Traceback (most recent call last)",
      "Cell \u001b[1;32mIn[1], line 1\u001b[0m\n\u001b[1;32m----> 1\u001b[0m \u001b[38;5;28;01mimport\u001b[39;00m \u001b[38;5;21;01mnumba\u001b[39;00m\n\u001b[0;32m      2\u001b[0m \u001b[38;5;28;01mfrom\u001b[39;00m \u001b[38;5;21;01mnumba\u001b[39;00m \u001b[38;5;28;01mimport\u001b[39;00m jit, cuda\n\u001b[0;32m      3\u001b[0m \u001b[38;5;28;01mimport\u001b[39;00m \u001b[38;5;21;01mnumpy\u001b[39;00m \u001b[38;5;28;01mas\u001b[39;00m \u001b[38;5;21;01mnp\u001b[39;00m\n",
      "\u001b[1;31mModuleNotFoundError\u001b[0m: No module named 'numba'"
     ]
    }
   ],
   "source": [
    "import numba\n",
    "from numba import jit, cuda\n",
    "import numpy as np\n",
    "# to measure exec time\n",
    "from timeit import default_timer as timer\n",
    "\n",
    "# normal function to run on cpu\n",
    "def func(a):\n",
    "\tfor i in range(10000000):\n",
    "\t\ta[i]+= 1\n",
    "\n",
    "# function optimized to run on gpu\n",
    "@jit(target_backend='cuda')\n",
    "def func2(a):\n",
    "\tfor i in range(10000000):\n",
    "\t\ta[i]+= 1\n",
    "if __name__==\"__main__\":\n",
    "\tn = 10000000\n",
    "\ta = np.ones(n, dtype = np.float64)\n",
    "\n",
    "\tstart = timer()\n",
    "\tfunc(a)\n",
    "\tprint(\"without GPU:\", timer()-start)\n",
    "\n",
    "\tstart = timer()\n",
    "\tfunc2(a)\n",
    "\tprint(\"with GPU:\", timer()-start)\n"
   ]
  },
  {
   "cell_type": "code",
   "execution_count": 1,
   "id": "89c206bb",
   "metadata": {
    "id": "89c206bb",
    "outputId": "81385710-879e-48c1-f602-297ac31d45a1"
   },
   "outputs": [
    {
     "name": "stdout",
     "output_type": "stream",
     "text": [
      "WARNING:tensorflow:From C:\\Users\\ASUS\\AppData\\Local\\Temp\\ipykernel_3836\\706592764.py:2: is_gpu_available (from tensorflow.python.framework.test_util) is deprecated and will be removed in a future version.\n",
      "Instructions for updating:\n",
      "Use `tf.config.list_physical_devices('GPU')` instead.\n"
     ]
    },
    {
     "data": {
      "text/plain": [
       "[]"
      ]
     },
     "execution_count": 1,
     "metadata": {},
     "output_type": "execute_result"
    }
   ],
   "source": [
    "import tensorflow as tf\n",
    "tf.test.is_gpu_available(\n",
    "    cuda_only=False, min_cuda_compute_capability=None\n",
    ")\n",
    "tf.config.list_physical_devices('GPU')"
   ]
  },
  {
   "cell_type": "code",
   "execution_count": 2,
   "id": "273f9195",
   "metadata": {
    "id": "273f9195",
    "outputId": "8e5239af-26ca-4d54-840a-f7b328207951"
   },
   "outputs": [
    {
     "name": "stdout",
     "output_type": "stream",
     "text": [
      "Num GPUs Available:  0\n",
      "Num GPUs Available:  0\n",
      "2.16.1\n"
     ]
    }
   ],
   "source": [
    "import tensorflow as tf\n",
    "print(\"Num GPUs Available: \", len(tf.config.experimental.list_physical_devices('GPU')))\n",
    "print(\"Num GPUs Available: \", len(tf.config.list_physical_devices('GPU')))\n",
    "print(tf.__version__)"
   ]
  },
  {
   "cell_type": "code",
   "execution_count": 2,
   "id": "5919fc86",
   "metadata": {
    "id": "5919fc86",
    "outputId": "7db6275b-9116-4988-dc4b-1219cfdcb097"
   },
   "outputs": [
    {
     "name": "stdout",
     "output_type": "stream",
     "text": [
      "Python 3.11.9\n"
     ]
    }
   ],
   "source": [
    "!python --version"
   ]
  },
  {
   "cell_type": "code",
   "execution_count": 5,
   "id": "2bd7b5e1",
   "metadata": {
    "id": "2bd7b5e1"
   },
   "outputs": [
    {
     "ename": "SyntaxError",
     "evalue": "invalid syntax (1970068086.py, line 1)",
     "output_type": "error",
     "traceback": [
      "\u001b[1;36m  Cell \u001b[1;32mIn[5], line 1\u001b[1;36m\u001b[0m\n\u001b[1;33m    python3 -m pip install tensorflow[and-cuda]\u001b[0m\n\u001b[1;37m               ^\u001b[0m\n\u001b[1;31mSyntaxError\u001b[0m\u001b[1;31m:\u001b[0m invalid syntax\n"
     ]
    }
   ],
   "source": [
    "python3 -m pip install tensorflow[and-cuda]\n",
    "# Verify the installation:\n",
    "python3 -c \"import tensorflow as tf; print(tf.config.list_physical_devices('GPU'))\""
   ]
  },
  {
   "cell_type": "code",
   "execution_count": 1,
   "id": "0b462e5f-7ba2-4c77-96d8-12cd0e42a2e1",
   "metadata": {},
   "outputs": [
    {
     "name": "stdout",
     "output_type": "stream",
     "text": [
      "3.11.9 (tags/v3.11.9:de54cf5, Apr  2 2024, 10:12:12) [MSC v.1938 64 bit (AMD64)]\n",
      "2.16.1\n",
      "False\n"
     ]
    }
   ],
   "source": [
    "import tensorflow as tf\n",
    "import sys\n",
    "print(sys.version)\n",
    "print(tf.__version__)\n",
    "print(len(tf.config.list_physical_devices('GPU'))>0)"
   ]
  },
  {
   "cell_type": "code",
   "execution_count": 2,
   "id": "bd77eb96-18ff-45a9-9d63-3e54b63c61f5",
   "metadata": {},
   "outputs": [
    {
     "name": "stdout",
     "output_type": "stream",
     "text": [
      "Package                      Version\n",
      "---------------------------- --------\n",
      "absl-py                      2.1.0\n",
      "astunparse                   1.6.3\n",
      "cachetools                   5.3.3\n",
      "certifi                      2024.2.2\n",
      "charset-normalizer           3.3.2\n",
      "flatbuffers                  24.3.25\n",
      "gast                         0.4.0\n",
      "google-auth                  2.29.0\n",
      "google-auth-oauthlib         1.0.0\n",
      "google-pasta                 0.2.0\n",
      "grpcio                       1.63.0\n",
      "h5py                         3.11.0\n",
      "idna                         3.7\n",
      "keras                        2.13.1\n",
      "libclang                     18.1.1\n",
      "llvmlite                     0.40.1\n",
      "Markdown                     3.6\n",
      "MarkupSafe                   2.1.5\n",
      "numba                        0.57.0\n",
      "numpy                        1.24.3\n",
      "oauthlib                     3.2.2\n",
      "opt-einsum                   3.3.0\n",
      "packaging                    24.0\n",
      "pip                          24.0\n",
      "protobuf                     4.25.3\n",
      "pyasn1                       0.6.0\n",
      "pyasn1_modules               0.4.0\n",
      "requests                     2.31.0\n",
      "requests-oauthlib            2.0.0\n",
      "rsa                          4.9\n",
      "setuptools                   65.5.0\n",
      "six                          1.16.0\n",
      "tensorboard                  2.13.0\n",
      "tensorboard-data-server      0.7.2\n",
      "tensorflow                   2.13.1\n",
      "tensorflow-estimator         2.13.0\n",
      "tensorflow-intel             2.13.1\n",
      "tensorflow-io-gcs-filesystem 0.31.0\n",
      "termcolor                    2.4.0\n",
      "typing_extensions            4.5.0\n",
      "urllib3                      2.2.1\n",
      "Werkzeug                     3.0.2\n",
      "wheel                        0.43.0\n",
      "wrapt                        1.16.0\n"
     ]
    }
   ],
   "source": [
    "!pip list"
   ]
  },
  {
   "cell_type": "code",
   "execution_count": 4,
   "id": "535207ff-028c-4488-805c-2b27eb65e876",
   "metadata": {},
   "outputs": [],
   "source": [
    "import tensorflow as tf"
   ]
  },
  {
   "cell_type": "code",
   "execution_count": 2,
   "id": "4a0be855-4461-4040-9877-0f8820155320",
   "metadata": {},
   "outputs": [
    {
     "name": "stdout",
     "output_type": "stream",
     "text": [
      "2.16.1\n"
     ]
    }
   ],
   "source": [
    "print(tf.__version__)"
   ]
  },
  {
   "cell_type": "code",
   "execution_count": 6,
   "id": "75f37af2-a9b9-4fdf-a099-32f716212834",
   "metadata": {},
   "outputs": [
    {
     "name": "stdout",
     "output_type": "stream",
     "text": [
      "Package                      Version\n",
      "---------------------------- --------\n",
      "absl-py                      2.1.0\n",
      "astunparse                   1.6.3\n",
      "cachetools                   5.3.3\n",
      "certifi                      2024.2.2\n",
      "charset-normalizer           3.3.2\n",
      "flatbuffers                  24.3.25\n",
      "gast                         0.4.0\n",
      "google-auth                  2.29.0\n",
      "google-auth-oauthlib         1.0.0\n",
      "google-pasta                 0.2.0\n",
      "grpcio                       1.63.0\n",
      "h5py                         3.11.0\n",
      "idna                         3.7\n",
      "keras                        2.13.1\n",
      "libclang                     18.1.1\n",
      "llvmlite                     0.40.1\n",
      "Markdown                     3.6\n",
      "MarkupSafe                   2.1.5\n",
      "numba                        0.57.0\n",
      "numpy                        1.24.3\n",
      "oauthlib                     3.2.2\n",
      "opt-einsum                   3.3.0\n",
      "packaging                    24.0\n",
      "pip                          24.0\n",
      "protobuf                     4.25.3\n",
      "pyasn1                       0.6.0\n",
      "pyasn1_modules               0.4.0\n",
      "requests                     2.31.0\n",
      "requests-oauthlib            2.0.0\n",
      "rsa                          4.9\n",
      "setuptools                   65.5.0\n",
      "six                          1.16.0\n",
      "tensorboard                  2.13.0\n",
      "tensorboard-data-server      0.7.2\n",
      "tensorflow                   2.13.1\n",
      "tensorflow-estimator         2.13.0\n",
      "tensorflow-intel             2.13.1\n",
      "tensorflow-io-gcs-filesystem 0.31.0\n",
      "termcolor                    2.4.0\n",
      "typing_extensions            4.5.0\n",
      "urllib3                      2.2.1\n",
      "Werkzeug                     3.0.2\n",
      "wheel                        0.43.0\n",
      "wrapt                        1.16.0\n"
     ]
    }
   ],
   "source": [
    "!pip list tensorflow\n"
   ]
  },
  {
   "cell_type": "code",
   "execution_count": 3,
   "id": "33bf53ff-80ab-4a0b-93ae-7caf5e2adce3",
   "metadata": {},
   "outputs": [
    {
     "name": "stderr",
     "output_type": "stream",
     "text": [
      "WARNING: Skipping tensorflow as it is not installed.\n"
     ]
    }
   ],
   "source": [
    "!pip uninstall tensorflow\n"
   ]
  },
  {
   "cell_type": "code",
   "execution_count": 5,
   "id": "266de36a-891b-4b4f-8781-7c48ff4c01fe",
   "metadata": {},
   "outputs": [
    {
     "name": "stdout",
     "output_type": "stream",
     "text": [
      "2.16.1\n"
     ]
    }
   ],
   "source": [
    "import tensorflow as tf\n",
    "print(tf.__version__)\n"
   ]
  },
  {
   "cell_type": "code",
   "execution_count": null,
   "id": "46b8ef65-dac6-46c3-b55f-039b828e2806",
   "metadata": {},
   "outputs": [],
   "source": []
  }
 ],
 "metadata": {
  "colab": {
   "provenance": []
  },
  "kernelspec": {
   "display_name": "Python 3 (ipykernel)",
   "language": "python",
   "name": "python3"
  },
  "language_info": {
   "codemirror_mode": {
    "name": "ipython",
    "version": 3
   },
   "file_extension": ".py",
   "mimetype": "text/x-python",
   "name": "python",
   "nbconvert_exporter": "python",
   "pygments_lexer": "ipython3",
   "version": "3.11.9"
  }
 },
 "nbformat": 4,
 "nbformat_minor": 5
}
